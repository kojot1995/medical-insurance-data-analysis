{
 "cells": [
  {
   "cell_type": "code",
   "execution_count": 3,
   "metadata": {},
   "outputs": [],
   "source": [
    "# Import libraries\n",
    "import csv"
   ]
  },
  {
   "cell_type": "code",
   "execution_count": 4,
   "metadata": {},
   "outputs": [
    {
     "name": "stdout",
     "output_type": "stream",
     "text": [
      "['age', 'sex', 'bmi', 'children', 'smoker', 'region', 'charges']\n",
      "['19', 'female', '27.9', '0', 'yes', 'southwest', '16884.924']\n",
      "['18', 'male', '33.77', '1', 'no', 'southeast', '1725.5523']\n",
      "['28', 'male', '33', '3', 'no', 'southeast', '4449.462']\n",
      "['33', 'male', '22.705', '0', 'no', 'northwest', '21984.47061']\n"
     ]
    }
   ],
   "source": [
    "# Import dataset\n",
    "with open('./insurance.csv') as csv_file:\n",
    "    medical_data = list(csv.reader(csv_file, delimiter=','))\n",
    "    for row in medical_data[0:5]:\n",
    "        print(row)"
   ]
  },
  {
   "cell_type": "code",
   "execution_count": 5,
   "metadata": {},
   "outputs": [],
   "source": [
    "# Initialize empty tables\n",
    "ages, sexes, bmis, children, smokers, regions, charges = [],[],[],[],[],[],[]"
   ]
  },
  {
   "cell_type": "code",
   "execution_count": 6,
   "metadata": {},
   "outputs": [],
   "source": [
    "# Fill the tables with values\n",
    "for record in medical_data[1:]:\n",
    "    ages.append(record[0])\n",
    "    sexes.append(record[1])\n",
    "    bmis.append(record[2])\n",
    "    children.append(record[3])\n",
    "    smokers.append(record[4])\n",
    "    regions.append(record[5])\n",
    "    charges.append(record[6])"
   ]
  },
  {
   "cell_type": "code",
   "execution_count": 7,
   "metadata": {},
   "outputs": [
    {
     "name": "stdout",
     "output_type": "stream",
     "text": [
      "Average age of the patients in the dataset: 39.21 years.\n"
     ]
    }
   ],
   "source": [
    "# Find an average age of patients in the dataset.\n",
    "total_age = 0\n",
    "for age in ages:\n",
    "    total_age += int(age)\n",
    "average_age = round(total_age / len(ages), 2)\n",
    "print('Average age of the patients in the dataset: {} years.'.format(average_age))\n"
   ]
  },
  {
   "cell_type": "code",
   "execution_count": 8,
   "metadata": {},
   "outputs": [
    {
     "name": "stdout",
     "output_type": "stream",
     "text": [
      "Number of individuals from northwest: 325\n",
      "Number of individuals from northeast: 324\n",
      "Number of individuals from southwest: 325\n",
      "Number of individuals from southeast: 364\n"
     ]
    }
   ],
   "source": [
    "# Analyze where a majority of the individuals are from.\n",
    "region_list = ['northwest', 'northeast', 'southwest', 'southeast']\n",
    "for region in region_list:\n",
    "    print('Number of individuals from ' + region + ': ' + str(regions.count(region)))"
   ]
  }
 ],
 "metadata": {
  "kernelspec": {
   "display_name": "Python 3.10.4 64-bit",
   "language": "python",
   "name": "python3"
  },
  "language_info": {
   "codemirror_mode": {
    "name": "ipython",
    "version": 3
   },
   "file_extension": ".py",
   "mimetype": "text/x-python",
   "name": "python",
   "nbconvert_exporter": "python",
   "pygments_lexer": "ipython3",
   "version": "3.10.4"
  },
  "orig_nbformat": 4,
  "vscode": {
   "interpreter": {
    "hash": "4bcb3e103873872672bd6678ab04df4a068ee402952e0df216ce4c6208c323d9"
   }
  }
 },
 "nbformat": 4,
 "nbformat_minor": 2
}
